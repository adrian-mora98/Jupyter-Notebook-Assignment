{
 "cells": [
  {
   "cell_type": "code",
   "execution_count": 1,
   "id": "be1db29c-cf5b-4f36-bd45-f9e81b249203",
   "metadata": {},
   "outputs": [],
   "source": [
    "# Exercise 2: Create markdown cell with title of the notebook"
   ]
  },
  {
   "cell_type": "markdown",
   "id": "622b761a-d1de-4b90-8c07-1adb1a328f14",
   "metadata": {},
   "source": [
    "# Data Science Tools and Ecosystem"
   ]
  },
  {
   "cell_type": "code",
   "execution_count": 2,
   "id": "3d976eac-d41d-4d1a-b537-68139b4ec317",
   "metadata": {},
   "outputs": [],
   "source": [
    "# Exercise 3 - Create a markdown cell for an introduction"
   ]
  },
  {
   "cell_type": "markdown",
   "id": "fa1d33da-53f3-4393-96d0-a9a41d1c27ef",
   "metadata": {},
   "source": [
    "## In this notebook, Data Science Tools and Ecosystem are summarized."
   ]
  },
  {
   "cell_type": "code",
   "execution_count": 3,
   "id": "bae1978a-9ad3-456e-a168-cd1574747ec6",
   "metadata": {},
   "outputs": [],
   "source": [
    "# Exercise 10 - Insert a markdown cell to list Objectives"
   ]
  },
  {
   "cell_type": "markdown",
   "id": "870a657a-eb14-4fa6-b8a0-4033cffb5ceb",
   "metadata": {},
   "source": [
    "**Objectives:**\n",
    "- List popular languages for Data Science\n",
    "- List poplar libraries for Data Science\n",
    "- List Data Science tools\n",
    "- Learn to code simple arithmetic problems"
   ]
  },
  {
   "cell_type": "code",
   "execution_count": 4,
   "id": "f75da0c8-393b-43f7-877e-5c8bae4a31e1",
   "metadata": {},
   "outputs": [],
   "source": [
    "# Exercise 4 - Create a markdown cell to list data science languages"
   ]
  },
  {
   "cell_type": "markdown",
   "id": "59c8763f-2f20-40bd-a583-28cfb9fb1438",
   "metadata": {},
   "source": [
    "Some of the popular languages that Data Scientists use are:\n",
    "1. Python\n",
    "2. R\n",
    "3. SQL\n",
    "4. Julia"
   ]
  },
  {
   "cell_type": "code",
   "execution_count": 5,
   "id": "4a3ebd38-8d08-4815-a008-3fdaaf3fa4cd",
   "metadata": {},
   "outputs": [],
   "source": [
    "# Exercise 5 - Create a markdown cell to list data science libraries"
   ]
  },
  {
   "cell_type": "markdown",
   "id": "d9950a12-b492-4914-907c-3ea1fa52bb2b",
   "metadata": {},
   "source": [
    "Some of the commonly used libraries used by Data Scientists include:\n",
    "1. Ggplot2\n",
    "2. Dplyr\n",
    "3. Caret"
   ]
  },
  {
   "cell_type": "code",
   "execution_count": 6,
   "id": "c3ad1a3a-e686-4e90-b2a7-84e93005ef41",
   "metadata": {},
   "outputs": [],
   "source": [
    "# Exercise 6 - Create a markdown cell with a table of Data Science tools"
   ]
  },
  {
   "cell_type": "markdown",
   "id": "2874e0e0-d05d-4647-b601-c35a5e656ab0",
   "metadata": {},
   "source": [
    "|Data Science Tools|\n",
    "|---------|\n",
    "|Jupyter Notebooks|\n",
    "|R Studio|\n",
    "|Apache Hadoop|"
   ]
  },
  {
   "cell_type": "code",
   "execution_count": 7,
   "id": "41675a92-8a58-450e-8101-cb7f08bf32e7",
   "metadata": {},
   "outputs": [],
   "source": [
    "# Exercise 7 - Create a markdown cell introducing arithmetic expression examples"
   ]
  },
  {
   "cell_type": "markdown",
   "id": "1e33ee79-fa6c-4c88-8192-3eee65385974",
   "metadata": {},
   "source": [
    "### Below are a few examples of evaluating arithmetic expressions in Python"
   ]
  },
  {
   "cell_type": "code",
   "execution_count": 8,
   "id": "f6562af2-2936-4e91-87e7-3c84909d8a17",
   "metadata": {},
   "outputs": [
    {
     "data": {
      "text/plain": [
       "17"
      ]
     },
     "execution_count": 8,
     "metadata": {},
     "output_type": "execute_result"
    }
   ],
   "source": [
    "# Exercise 8 - Create a code cell to multiply and add numbers\n",
    "# This a simple arithmetic expression to mutiply then add integers\n",
    "(3*4)+5"
   ]
  },
  {
   "cell_type": "code",
   "execution_count": 9,
   "id": "0ab77af9-834c-417c-87c3-82ce21e2929b",
   "metadata": {},
   "outputs": [
    {
     "name": "stdout",
     "output_type": "stream",
     "text": [
      "3.33 hours\n"
     ]
    }
   ],
   "source": [
    "# Exercise 9 - Create a code cell to convert minutes to hours\n",
    "# This will convert 200 minutes to hours by diving by 60 and round to two decimals\n",
    "h=round(200/60,2)\n",
    "print(h, \"hours\")"
   ]
  },
  {
   "cell_type": "code",
   "execution_count": 10,
   "id": "bcf836b2-5cb8-4849-8b9f-03b154c49ea5",
   "metadata": {},
   "outputs": [],
   "source": [
    "# Exercise 11 - Create a markdown cell to indicate the Author's name"
   ]
  },
  {
   "cell_type": "markdown",
   "id": "22703483-db1b-4703-a8d6-a5f35ecbd29f",
   "metadata": {},
   "source": [
    "## Author\n",
    "Adrian Mora"
   ]
  },
  {
   "cell_type": "code",
   "execution_count": null,
   "id": "402806c0-be8e-447a-813a-defc4f1f0631",
   "metadata": {},
   "outputs": [],
   "source": []
  }
 ],
 "metadata": {
  "kernelspec": {
   "display_name": "Python 3 (ipykernel)",
   "language": "python",
   "name": "python3"
  },
  "language_info": {
   "codemirror_mode": {
    "name": "ipython",
    "version": 3
   },
   "file_extension": ".py",
   "mimetype": "text/x-python",
   "name": "python",
   "nbconvert_exporter": "python",
   "pygments_lexer": "ipython3",
   "version": "3.11.7"
  }
 },
 "nbformat": 4,
 "nbformat_minor": 5
}
